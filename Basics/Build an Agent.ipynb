{
 "cells": [
  {
   "cell_type": "code",
   "execution_count": 1,
   "metadata": {},
   "outputs": [],
   "source": [
    "import os\n",
    "from dotenv import load_dotenv\n",
    "\n",
    "load_dotenv()\n",
    "\n",
    "OPENAI_API_BASE = os.environ.get(\"OPENAI_API_BASE\")\n",
    "OPENAI_API_KEY = os.environ.get(\"OPENAI_API_KEY\")\n",
    "TAVILY_API_KEY = os.environ.get(\"TAVILY_API_KEY\")"
   ]
  },
  {
   "cell_type": "code",
   "execution_count": 2,
   "metadata": {},
   "outputs": [
    {
     "name": "stdout",
     "output_type": "stream",
     "text": [
      "{'agent': {'messages': [AIMessage(content='你好，小明！很高兴认识你。合肥是一个历史悠久的城市，也是安徽省的省会。有什么我可以帮助你的吗？或者，你有什么关于合肥的好去处想要分享？', additional_kwargs={'refusal': None}, response_metadata={'token_usage': {'completion_tokens': 38, 'prompt_tokens': 213, 'total_tokens': 251, 'completion_tokens_details': None, 'prompt_tokens_details': None}, 'model_name': 'qwen-max', 'system_fingerprint': None, 'finish_reason': 'stop', 'logprobs': None}, id='run-9b7de2fc-3ad3-4cbb-829f-4547b98afd42-0', usage_metadata={'input_tokens': 213, 'output_tokens': 38, 'total_tokens': 251, 'input_token_details': {}, 'output_token_details': {}})]}}\n",
      "----\n",
      "{'agent': {'messages': [AIMessage(content='', additional_kwargs={'tool_calls': [{'id': 'call_6b4b72882f1e427e9fcb44', 'function': {'arguments': '{\"query\": \"合肥 天气\"}', 'name': 'tavily_search_results_json'}, 'type': 'function', 'index': 0}], 'refusal': None}, response_metadata={'token_usage': {'completion_tokens': 23, 'prompt_tokens': 267, 'total_tokens': 290, 'completion_tokens_details': None, 'prompt_tokens_details': None}, 'model_name': 'qwen-max', 'system_fingerprint': None, 'finish_reason': 'tool_calls', 'logprobs': None}, id='run-a6e39d7d-2c29-4deb-920a-2dcfd3111acd-0', tool_calls=[{'name': 'tavily_search_results_json', 'args': {'query': '合肥 天气'}, 'id': 'call_6b4b72882f1e427e9fcb44', 'type': 'tool_call'}], usage_metadata={'input_tokens': 267, 'output_tokens': 23, 'total_tokens': 290, 'input_token_details': {}, 'output_token_details': {}})]}}\n",
      "----\n",
      "{'tools': {'messages': [ToolMessage(content='[{\"url\": \"https://tianqi.moji.com/weather/china/anhui/hefei\", \"content\": \"合肥市今天实况：17度雾，湿度：89%，西北风：2级。白天：19度,雾。 夜间：多云，11度，天气偏凉了，墨迹天气建议您穿上厚些的外套或是保暖的羊毛衫，年老体弱者可以选择保暖的摇\"}, {\"url\": \"https://m.hf.bendibao.com/tianqi/7day.shtm\", \"content\": \"合肥一周天气预报 ; 06-19(周三). 小雨. 24～26℃ ; 06-20(周四). 小雨. 24～32℃ ; 06-21(周五). 中雨. 25～32℃ ; 06-22(周六). 大雨. 22～29℃ ; 06-23(周日). 阴. 25～33℃.\"}]', name='tavily_search_results_json', id='47a522df-09eb-45b3-9756-446cf88459bc', tool_call_id='call_6b4b72882f1e427e9fcb44', artifact={'query': '合肥 天气', 'follow_up_questions': None, 'answer': None, 'images': [], 'results': [{'url': 'https://tianqi.moji.com/weather/china/anhui/hefei', 'title': '合肥市天气预报_天气查询- 墨迹天气', 'content': '合肥市今天实况：17度雾，湿度：89%，西北风：2级。白天：19度,雾。 夜间：多云，11度，天气偏凉了，墨迹天气建议您穿上厚些的外套或是保暖的羊毛衫，年老体弱者可以选择保暖的摇', 'score': 0.9986646, 'raw_content': None}, {'url': 'https://m.hf.bendibao.com/tianqi/7day.shtm', 'title': '合肥一周天气预报', 'content': '合肥一周天气预报 ; 06-19(周三). 小雨. 24～26℃ ; 06-20(周四). 小雨. 24～32℃ ; 06-21(周五). 中雨. 25～32℃ ; 06-22(周六). 大雨. 22～29℃ ; 06-23(周日). 阴. 25～33℃.', 'score': 0.9980732, 'raw_content': None}], 'response_time': 8.05})]}}\n",
      "----\n",
      "{'agent': {'messages': [AIMessage(content='合肥今天的天气实况是17度，有雾，湿度为89%，西北风2级。白天温度在19度左右并伴有雾，夜间则会转为多云，气温下降到11度。由于天气偏凉，建议穿上厚一些的外套或保暖羊毛衫，特别是年老体弱者更应该注意保暖。\\n\\n此外，接下来一周的天气预报如下：\\n- 6月19日（周三）：小雨，24～26℃\\n- 6月20日（周四）：小雨，24～32℃\\n- 6月21日（周五）：中雨，25～32℃\\n- 6月22日（周六）：大雨，22～29℃\\n- 6月23日（周日）：阴天，25～33℃\\n\\n记得根据天气变化适当调整着装，并携带雨具以应对可能出现的降雨哦。如果需要最新的天气更新或其他帮助，请随时告诉我！', additional_kwargs={'refusal': None}, response_metadata={'token_usage': {'completion_tokens': 223, 'prompt_tokens': 549, 'total_tokens': 772, 'completion_tokens_details': None, 'prompt_tokens_details': None}, 'model_name': 'qwen-max', 'system_fingerprint': None, 'finish_reason': 'stop', 'logprobs': None}, id='run-b57b9240-0b1c-4ef2-a646-32ed9625356b-0', usage_metadata={'input_tokens': 549, 'output_tokens': 223, 'total_tokens': 772, 'input_token_details': {}, 'output_token_details': {}})]}}\n",
      "----\n"
     ]
    }
   ],
   "source": [
    "# Import relevant functionality\n",
    "from langchain_openai import ChatOpenAI\n",
    "from langchain_community.tools.tavily_search import TavilySearchResults\n",
    "from langchain_core.messages import HumanMessage\n",
    "from langgraph.checkpoint.memory import MemorySaver\n",
    "from langgraph.prebuilt import create_react_agent\n",
    "\n",
    "# Create the agent\n",
    "memory = MemorySaver()\n",
    "model = ChatOpenAI(model=\"qwen-max\")\n",
    "search = TavilySearchResults(max_results=2)\n",
    "tools = [search]\n",
    "agent_executor = create_react_agent(model, tools, checkpointer=memory)\n",
    "\n",
    "# Use the agent\n",
    "config = {\"configurable\": {\"thread_id\": \"abc123\"}}\n",
    "for chunk in agent_executor.stream(\n",
    "    {\"messages\": [HumanMessage(content=\"你好我是小明！我住在合肥\")]}, config\n",
    "):\n",
    "    print(chunk)\n",
    "    print(\"----\")\n",
    "\n",
    "for chunk in agent_executor.stream(\n",
    "    {\"messages\": [HumanMessage(content=\"我的住的地方天气怎么样？\")]}, config\n",
    "):\n",
    "    print(chunk)\n",
    "    print(\"----\")"
   ]
  },
  {
   "cell_type": "markdown",
   "metadata": {},
   "source": [
    "# Define Tool"
   ]
  },
  {
   "cell_type": "code",
   "execution_count": 3,
   "metadata": {},
   "outputs": [],
   "source": [
    "from langchain_community.tools.tavily_search import TavilySearchResults\n",
    "\n",
    "search = TavilySearchResults(max_results=2)\n",
    "search_result = search.invoke(\"合肥今天的天气怎么样？\")\n",
    "\n",
    "tools = [search]"
   ]
  },
  {
   "cell_type": "code",
   "execution_count": 4,
   "metadata": {},
   "outputs": [
    {
     "name": "stdout",
     "output_type": "stream",
     "text": [
      "{'url': 'https://tianqi.moji.com/weather/china/anhui/hefei', 'content': '合肥市今天实况：17度雾，湿度：89%，西北风：2级。白天：19度,雾。 夜间：多云，11度，天气偏凉了，墨迹天气建议您穿上厚些的外套或是保暖的羊毛衫，年老体弱者可以选择保暖的摇'}\n",
      "{'url': 'https://tianqi.fliggy.com/340100/', 'content': '合肥11月10日00:01天气预报，今天11℃-20℃，小雨, 风向情况：东风，总降水量：0.00mm，相对湿度：91%。合肥今日生活指数: 交通指数，良好（天气较好，路面干燥，交通'}\n"
     ]
    }
   ],
   "source": [
    "for result in search_result:\n",
    "    print(result)"
   ]
  },
  {
   "cell_type": "markdown",
   "metadata": {},
   "source": [
    "# Using Language Models"
   ]
  },
  {
   "cell_type": "code",
   "execution_count": 5,
   "metadata": {},
   "outputs": [],
   "source": [
    "from langchain_openai import ChatOpenAI\n",
    "\n",
    "model = ChatOpenAI(model=\"qwen-max\")\n",
    "model_with_tools = model.bind_tools(tools)"
   ]
  },
  {
   "cell_type": "code",
   "execution_count": 6,
   "metadata": {},
   "outputs": [
    {
     "name": "stdout",
     "output_type": "stream",
     "text": [
      "ContentString: 你好！有什么我能帮助你的吗？\n",
      "ToolCalls: []\n"
     ]
    }
   ],
   "source": [
    "response = model_with_tools.invoke([HumanMessage(content=\"你好！\")])\n",
    "\n",
    "print(f\"ContentString: {response.content}\")\n",
    "print(f\"ToolCalls: {response.tool_calls}\")"
   ]
  },
  {
   "cell_type": "code",
   "execution_count": 7,
   "metadata": {},
   "outputs": [
    {
     "name": "stdout",
     "output_type": "stream",
     "text": [
      "ContentString: \n",
      "ToolCalls: [{'name': 'tavily_search_results_json', 'args': {'query': '合肥今天天气'}, 'id': 'call_8e2767c581e34907a41925', 'type': 'tool_call'}]\n"
     ]
    }
   ],
   "source": [
    "response = model_with_tools.invoke([HumanMessage(content=\"合肥今天的天气怎么样？\")])\n",
    "\n",
    "print(f\"ContentString: {response.content}\")\n",
    "print(f\"ToolCalls: {response.tool_calls}\")"
   ]
  },
  {
   "cell_type": "markdown",
   "metadata": {},
   "source": [
    "# Create the agent"
   ]
  },
  {
   "cell_type": "code",
   "execution_count": 8,
   "metadata": {},
   "outputs": [],
   "source": [
    "from langgraph.prebuilt import create_react_agent\n",
    "\n",
    "agent_executor = create_react_agent(model, tools)"
   ]
  },
  {
   "cell_type": "code",
   "execution_count": 9,
   "metadata": {},
   "outputs": [
    {
     "data": {
      "text/plain": [
       "[HumanMessage(content='你好！', additional_kwargs={}, response_metadata={}, id='3152c960-3933-45cd-91bc-cd835914773e'),\n",
       " AIMessage(content='你好！有什么我能帮助你的吗？', additional_kwargs={'refusal': None}, response_metadata={'token_usage': {'completion_tokens': 8, 'prompt_tokens': 207, 'total_tokens': 215, 'completion_tokens_details': None, 'prompt_tokens_details': None}, 'model_name': 'qwen-max', 'system_fingerprint': None, 'finish_reason': 'stop', 'logprobs': None}, id='run-6091a88f-0dc5-4bb8-9d52-a2725eacc4bf-0', usage_metadata={'input_tokens': 207, 'output_tokens': 8, 'total_tokens': 215, 'input_token_details': {}, 'output_token_details': {}})]"
      ]
     },
     "execution_count": 9,
     "metadata": {},
     "output_type": "execute_result"
    }
   ],
   "source": [
    "response = agent_executor.invoke({\"messages\": [HumanMessage(content=\"你好！\")]})\n",
    "\n",
    "response[\"messages\"]"
   ]
  },
  {
   "cell_type": "code",
   "execution_count": 10,
   "metadata": {},
   "outputs": [
    {
     "data": {
      "text/plain": [
       "[HumanMessage(content='合肥今天的天气怎么样？', additional_kwargs={}, response_metadata={}, id='39ca456a-51c2-4f59-a967-cf92ac1ef305'),\n",
       " AIMessage(content='', additional_kwargs={'tool_calls': [{'id': 'call_0e64de36078b4c5dbf60a9', 'function': {'arguments': '{\"query\": \"合肥今天天气\"}', 'name': 'tavily_search_results_json'}, 'type': 'function', 'index': 0}], 'refusal': None}, response_metadata={'token_usage': {'completion_tokens': 22, 'prompt_tokens': 210, 'total_tokens': 232, 'completion_tokens_details': None, 'prompt_tokens_details': None}, 'model_name': 'qwen-max', 'system_fingerprint': None, 'finish_reason': 'tool_calls', 'logprobs': None}, id='run-bc66aec4-1960-4e94-bebb-561e7ffd2816-0', tool_calls=[{'name': 'tavily_search_results_json', 'args': {'query': '合肥今天天气'}, 'id': 'call_0e64de36078b4c5dbf60a9', 'type': 'tool_call'}], usage_metadata={'input_tokens': 210, 'output_tokens': 22, 'total_tokens': 232, 'input_token_details': {}, 'output_token_details': {}}),\n",
       " ToolMessage(content='[{\"url\": \"https://tianqi.moji.com/weather/china/anhui/hefei\", \"content\": \"合肥市今天实况：17度雾，湿度：89%，西北风：2级。白天：19度,雾。 夜间：多云，11度，天气偏凉了，墨迹天气建议您穿上厚些的外套或是保暖的羊毛衫，年老体弱者可以选择保暖的摇\"}, {\"url\": \"https://tianqi.fliggy.com/340100/\", \"content\": \"兰州正宗牛肉拉面天气. 合肥11月10日00:01天气预报，今天11℃-20℃，小雨, 风向情况：东风，总降水量：0.00mm，相对湿度：91%。合肥今日生活指数: 交通指数，良好（天气较\"}]', name='tavily_search_results_json', id='5ffd0479-4c7b-4b2b-a1de-e84dd5d339c9', tool_call_id='call_0e64de36078b4c5dbf60a9', artifact={'query': '合肥今天天气', 'follow_up_questions': None, 'answer': None, 'images': [], 'results': [{'url': 'https://tianqi.moji.com/weather/china/anhui/hefei', 'title': '合肥市天气预报_天气查询- 墨迹天气', 'content': '合肥市今天实况：17度雾，湿度：89%，西北风：2级。白天：19度,雾。 夜间：多云，11度，天气偏凉了，墨迹天气建议您穿上厚些的外套或是保暖的羊毛衫，年老体弱者可以选择保暖的摇', 'score': 0.99909246, 'raw_content': None}, {'url': 'https://tianqi.fliggy.com/340100/', 'title': '合肥旅游指数/交通指数，24小时/未来天气预报查询 - 飞猪天气预报', 'content': '兰州正宗牛肉拉面天气. 合肥11月10日00:01天气预报，今天11℃-20℃，小雨, 风向情况：东风，总降水量：0.00mm，相对湿度：91%。合肥今日生活指数: 交通指数，良好（天气较', 'score': 0.99871576, 'raw_content': None}], 'response_time': 4.33}),\n",
       " AIMessage(content='合肥市今天的天气情况如下：有雾，温度大约在17度左右，湿度为89%，西北风2级。白天的温度预计会达到19度，并伴有雾。夜间则转为多云，温度下降到11度。由于天气偏凉，建议穿上厚些的外套或保暖的羊毛衫，特别是对于年老体弱者来说，选择更保暖的衣物会比较合适。\\n\\n此外，请注意因为存在小雨的可能性以及较高的相对湿度（91%），外出时最好准备雨具并留意交通安全。', additional_kwargs={'refusal': None}, response_metadata={'token_usage': {'completion_tokens': 120, 'prompt_tokens': 462, 'total_tokens': 582, 'completion_tokens_details': None, 'prompt_tokens_details': None}, 'model_name': 'qwen-max', 'system_fingerprint': None, 'finish_reason': 'stop', 'logprobs': None}, id='run-563fcc90-77a1-4d23-9d5f-0e64b015b831-0', usage_metadata={'input_tokens': 462, 'output_tokens': 120, 'total_tokens': 582, 'input_token_details': {}, 'output_token_details': {}})]"
      ]
     },
     "execution_count": 10,
     "metadata": {},
     "output_type": "execute_result"
    }
   ],
   "source": [
    "response = agent_executor.invoke(\n",
    "    {\"messages\": [HumanMessage(content=\"合肥今天的天气怎么样？\")]}\n",
    ")\n",
    "response[\"messages\"]"
   ]
  },
  {
   "cell_type": "markdown",
   "metadata": {},
   "source": [
    "# Streaming"
   ]
  },
  {
   "cell_type": "code",
   "execution_count": 11,
   "metadata": {},
   "outputs": [
    {
     "name": "stdout",
     "output_type": "stream",
     "text": [
      "{'agent': {'messages': [AIMessage(content='', additional_kwargs={'tool_calls': [{'id': 'call_7e165c8d068849fc873f14', 'function': {'arguments': '{\"query\": \"合肥今天天气\"}', 'name': 'tavily_search_results_json'}, 'type': 'function', 'index': 0}], 'refusal': None}, response_metadata={'token_usage': {'completion_tokens': 22, 'prompt_tokens': 210, 'total_tokens': 232, 'completion_tokens_details': None, 'prompt_tokens_details': None}, 'model_name': 'qwen-max', 'system_fingerprint': None, 'finish_reason': 'tool_calls', 'logprobs': None}, id='run-134805a6-eb53-4dff-b411-14ae9c589f75-0', tool_calls=[{'name': 'tavily_search_results_json', 'args': {'query': '合肥今天天气'}, 'id': 'call_7e165c8d068849fc873f14', 'type': 'tool_call'}], usage_metadata={'input_tokens': 210, 'output_tokens': 22, 'total_tokens': 232, 'input_token_details': {}, 'output_token_details': {}})]}}\n",
      "----\n",
      "{'tools': {'messages': [ToolMessage(content='[{\"url\": \"https://tianqi.moji.com/weather/china/anhui/hefei\", \"content\": \"合肥市今天实况：17度雾，湿度：89%，西北风：2级。白天：19度,雾。 夜间：多云，11度，天气偏凉了，墨迹天气建议您穿上厚些的外套或是保暖的羊毛衫，年老体弱者可以选择保暖的摇\"}, {\"url\": \"https://tianqi.fliggy.com/340100/\", \"content\": \"兰州正宗牛肉拉面天气. 合肥11月10日00:01天气预报，今天11℃-20℃，小雨, 风向情况：东风，总降水量：0.00mm，相对湿度：91%。合肥今日生活指数: 交通指数，良好（天气较\"}]', name='tavily_search_results_json', id='280a7bf4-d0f5-4b3a-95f6-6cbeebe75577', tool_call_id='call_7e165c8d068849fc873f14', artifact={'query': '合肥今天天气', 'follow_up_questions': None, 'answer': None, 'images': [], 'results': [{'url': 'https://tianqi.moji.com/weather/china/anhui/hefei', 'title': '合肥市天气预报_天气查询- 墨迹天气', 'content': '合肥市今天实况：17度雾，湿度：89%，西北风：2级。白天：19度,雾。 夜间：多云，11度，天气偏凉了，墨迹天气建议您穿上厚些的外套或是保暖的羊毛衫，年老体弱者可以选择保暖的摇', 'score': 0.99909246, 'raw_content': None}, {'url': 'https://tianqi.fliggy.com/340100/', 'title': '合肥旅游指数/交通指数，24小时/未来天气预报查询 - 飞猪天气预报', 'content': '兰州正宗牛肉拉面天气. 合肥11月10日00:01天气预报，今天11℃-20℃，小雨, 风向情况：东风，总降水量：0.00mm，相对湿度：91%。合肥今日生活指数: 交通指数，良好（天气较', 'score': 0.99871576, 'raw_content': None}], 'response_time': 3.86})]}}\n",
      "----\n",
      "{'agent': {'messages': [AIMessage(content='合肥市今天的天气情况是：有雾，气温大约在17度左右，湿度为89%，风力为西北风2级。白天的温度约为19度, 夜间的天气预计会转为多云，温度下降到11度。由于天气偏凉，建议穿上厚些的外套或是保暖的羊毛衫，特别是年老体弱者更应注意保暖。\\n\\n另外一份报告提到今天合肥会有小雨，温度范围在11℃-20℃之间，风向为东风，相对湿度为91%。请记得携带雨具并注意防潮。\\n\\n请注意这些信息可能有所变化，您可以根据实际情况调整着装和出行计划。', additional_kwargs={'refusal': None}, response_metadata={'token_usage': {'completion_tokens': 148, 'prompt_tokens': 462, 'total_tokens': 610, 'completion_tokens_details': None, 'prompt_tokens_details': None}, 'model_name': 'qwen-max', 'system_fingerprint': None, 'finish_reason': 'stop', 'logprobs': None}, id='run-dd8a539b-7fc6-4753-941d-726de5a87a0a-0', usage_metadata={'input_tokens': 462, 'output_tokens': 148, 'total_tokens': 610, 'input_token_details': {}, 'output_token_details': {}})]}}\n",
      "----\n"
     ]
    }
   ],
   "source": [
    "for chunk in agent_executor.stream(\n",
    "    {\"messages\": [HumanMessage(content=\"合肥今天的天气怎么样？\")]}\n",
    "):\n",
    "    print(chunk)\n",
    "    print(\"----\")"
   ]
  },
  {
   "cell_type": "markdown",
   "metadata": {},
   "source": [
    "# Adding in memory"
   ]
  },
  {
   "cell_type": "code",
   "execution_count": 13,
   "metadata": {},
   "outputs": [
    {
     "name": "stdout",
     "output_type": "stream",
     "text": [
      "{'agent': {'messages': [AIMessage(content='你好，小明！很高兴见到你。有什么我可以帮助你的吗？', additional_kwargs={'refusal': None}, response_metadata={'token_usage': {'completion_tokens': 15, 'prompt_tokens': 211, 'total_tokens': 226, 'completion_tokens_details': None, 'prompt_tokens_details': None}, 'model_name': 'qwen-max', 'system_fingerprint': None, 'finish_reason': 'stop', 'logprobs': None}, id='run-56c99002-57e8-4b30-a187-395efa7ebd0d-0', usage_metadata={'input_tokens': 211, 'output_tokens': 15, 'total_tokens': 226, 'input_token_details': {}, 'output_token_details': {}})]}}\n",
      "----\n"
     ]
    }
   ],
   "source": [
    "from langgraph.checkpoint.memory import MemorySaver\n",
    "\n",
    "memory = MemorySaver()\n",
    "\n",
    "agent_executor = create_react_agent(model, tools, checkpointer=memory)\n",
    "\n",
    "config = {\"configurable\": {\"thread_id\": \"abc123\"}}\n",
    "\n",
    "for chunk in agent_executor.stream(\n",
    "    {\"messages\": [HumanMessage(content=\"你好，我是小明！\")]}, config\n",
    "):\n",
    "    print(chunk)\n",
    "    print(\"----\")"
   ]
  },
  {
   "cell_type": "code",
   "execution_count": 14,
   "metadata": {},
   "outputs": [
    {
     "name": "stdout",
     "output_type": "stream",
     "text": [
      "{'agent': {'messages': [AIMessage(content='你叫小明。', additional_kwargs={'refusal': None}, response_metadata={'token_usage': {'completion_tokens': 5, 'prompt_tokens': 240, 'total_tokens': 245, 'completion_tokens_details': None, 'prompt_tokens_details': None}, 'model_name': 'qwen-max', 'system_fingerprint': None, 'finish_reason': 'stop', 'logprobs': None}, id='run-14c52742-5971-497d-abae-c44217206514-0', usage_metadata={'input_tokens': 240, 'output_tokens': 5, 'total_tokens': 245, 'input_token_details': {}, 'output_token_details': {}})]}}\n",
      "----\n"
     ]
    }
   ],
   "source": [
    "for chunk in agent_executor.stream(\n",
    "    {\"messages\": [HumanMessage(content=\"我叫什么？\")]}, config\n",
    "):\n",
    "    print(chunk)\n",
    "    print(\"----\")"
   ]
  },
  {
   "cell_type": "code",
   "execution_count": 15,
   "metadata": {},
   "outputs": [
    {
     "name": "stdout",
     "output_type": "stream",
     "text": [
      "{'agent': {'messages': [AIMessage(content='您好！您并没有告诉我您的名字，所以我无法知道您叫什么。您可以告诉我您的名字吗？', additional_kwargs={'refusal': None}, response_metadata={'token_usage': {'completion_tokens': 21, 'prompt_tokens': 209, 'total_tokens': 230, 'completion_tokens_details': None, 'prompt_tokens_details': None}, 'model_name': 'qwen-max', 'system_fingerprint': None, 'finish_reason': 'stop', 'logprobs': None}, id='run-76d29dc3-063e-4be2-9c2c-40283945d778-0', usage_metadata={'input_tokens': 209, 'output_tokens': 21, 'total_tokens': 230, 'input_token_details': {}, 'output_token_details': {}})]}}\n",
      "----\n"
     ]
    }
   ],
   "source": [
    "config = {\"configurable\": {\"thread_id\": \"xyz123\"}}\n",
    "for chunk in agent_executor.stream(\n",
    "    {\"messages\": [HumanMessage(content=\"我叫什么？\")]}, config\n",
    "):\n",
    "    print(chunk)\n",
    "    print(\"----\")"
   ]
  },
  {
   "cell_type": "code",
   "execution_count": null,
   "metadata": {},
   "outputs": [],
   "source": []
  }
 ],
 "metadata": {
  "kernelspec": {
   "display_name": "Python 3",
   "language": "python",
   "name": "python3"
  },
  "language_info": {
   "codemirror_mode": {
    "name": "ipython",
    "version": 3
   },
   "file_extension": ".py",
   "mimetype": "text/x-python",
   "name": "python",
   "nbconvert_exporter": "python",
   "pygments_lexer": "ipython3",
   "version": "3.12.7"
  }
 },
 "nbformat": 4,
 "nbformat_minor": 2
}
