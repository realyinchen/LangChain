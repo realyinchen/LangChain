{
 "cells": [
  {
   "cell_type": "code",
   "execution_count": 20,
   "metadata": {},
   "outputs": [],
   "source": [
    "import os\n",
    "from dotenv import load_dotenv\n",
    "from langchain_openai import ChatOpenAI\n",
    "\n",
    "load_dotenv()\n",
    "\n",
    "OPENAI_API_BASE = os.environ.get(\"OPENAI_API_BASE\")\n",
    "OPENAI_API_KEY = os.environ.get(\"OPENAI_API_KEY\")\n",
    "\n",
    "\n",
    "model = ChatOpenAI(model=\"qwen-max\")"
   ]
  },
  {
   "cell_type": "code",
   "execution_count": 3,
   "metadata": {},
   "outputs": [],
   "source": [
    "from langchain_community.embeddings import HuggingFaceBgeEmbeddings\n",
    "\n",
    "model_name = \"C:\\\\Home\\\\Documents\\\\Projects\\\\models\\\\BAAI\\\\bge-large-zh-v1.5\"\n",
    "model_kwargs = {\"device\": \"cpu\"}\n",
    "encode_kwargs = {\"normalize_embeddings\": True}\n",
    "embedding_model = HuggingFaceBgeEmbeddings(\n",
    "    model_name=model_name, model_kwargs=model_kwargs, encode_kwargs=encode_kwargs\n",
    ")"
   ]
  },
  {
   "cell_type": "markdown",
   "metadata": {},
   "source": [
    "# Indexing: Load"
   ]
  },
  {
   "cell_type": "code",
   "execution_count": 6,
   "metadata": {},
   "outputs": [
    {
     "data": {
      "text/plain": [
       "(list, langchain_core.documents.base.Document)"
      ]
     },
     "execution_count": 6,
     "metadata": {},
     "output_type": "execute_result"
    }
   ],
   "source": [
    "from langchain_community.document_loaders import PyPDFLoader\n",
    "\n",
    "loader = PyPDFLoader(file_path=\"../data/对话马斯克.pdf\")\n",
    "docs = loader.load()\n",
    "\n",
    "type(docs), type(docs[0])"
   ]
  },
  {
   "cell_type": "code",
   "execution_count": 8,
   "metadata": {},
   "outputs": [
    {
     "name": "stdout",
     "output_type": "stream",
     "text": [
      "page_content='472022 年第1期\n",
      "对话埃隆·马斯克\n",
      "——何时能在火星上看到人类？\n",
      "钱颖一\n",
      "人类距离登陆火星还有多\n",
      "远？我们未来真的能够在火星上\n",
      "生存吗？SpaceX首席执行官和\n",
      "首席设计师埃隆·马斯克（Elon \n",
      "Musk）曾表示，到 2025 年有 50%\n",
      "的概率可以在火星上看到人类。\n",
      "就在 2022 年初，据美国《华尔街\n",
      "日报》报道，埃隆·马斯克说，\n",
      "如果飞行安全监管机构要求对公\n",
      "司在德克萨斯州的一个设施进行\n",
      "额外的环境评估，SpaceX准备在\n",
      "佛罗里达州的一个场地来测试公\n",
      "司一直在开发的巨型火箭。\n",
      "据介绍，SpaceX 一直在准备\n",
      "位于德克萨斯州南端 Boca Chica的一个场地，用于试飞星舰火箭\n",
      "系统。230英尺高的超级重型助\n",
      "推器将把星舰飞船送入轨道，该\n",
      "公司曾表示，这将是其最雄心勃\n",
      "勃的任务。  \n",
      "马斯克表示，如果FAA（美\n",
      "国联邦航空局）要求提交环境影\n",
      "响报告，SpaceX公司将不得不将\n",
      "星舰测试转移到肯尼迪航天中心。\n",
      "他还补充道，随着时间的推移，\n",
      "公司最终可能会将佛罗里达和德\n",
      "克萨斯的设施用于不同用途：德\n",
      "克萨斯州的工厂“非常适合作为\n",
      "先进的研发基地”，肯尼迪航天\n",
      "中心可能会成为“主要的运营发\n",
      "射基地。”\n",
      "早在七年前，他在与经济学\n",
      "家、时任清华大学经济管理学院\n",
      "院长的钱颖一对话时表示，在火\n",
      "星上建立城市才是他创立SpaceX\n",
      "的初衷和根本目的。\n",
      "追随顶尖科技\n",
      "钱颖一  我了解到 ，你早年从\n",
      "南非到加拿大 ，进入女王大学\n",
      "（Queen’s University），\n",
      "两年之后转学到美国宾夕法尼亚\n",
      "大学。在这两所大学你一开始学的都是商科，在宾大你又学了物\n",
      "理学。 在大学学习商科和物理学，\n",
      "你最大的收获是什么？大学教育\n",
      "如何影响了你后来的职业生涯？\n",
      "马斯克  我的大学教育并没有怎\n",
      "么规划过。事实上，我当初都不\n",
      "确定是否要上大学。\n",
      "钱颖一  你是说，当初你甚至没\n",
      "有想要上大学吗？\n",
      "马斯克  是啊，我不确定是否该\n",
      "上大学。当初我从南非到北美，\n",
      "只是因为觉得很多尖端科技都是\n",
      "在北美诞生、发展的，我了解到\n",
      "的每一项新技术，似乎都是从那\n",
      "里发源的。17 岁的时候，我独自\n",
      "去了北美，也没有上大学的明确\n",
      "计划，只是想接近技术的诞生地\n",
      "而已。\n",
      "钱颖一  必须是北美？钱颖一，著名经济学家。清华大\n",
      "学 1977 级数学专业本科，曾任清\n",
      "华大学经济管理学院院长。2018\n",
      "年起任西湖大学首届校董会主席。\n",
      "《钱颖一对话录》' metadata={'source': '../data/对话马斯克.pdf', 'page': 0}\n"
     ]
    }
   ],
   "source": [
    "print(docs[0])"
   ]
  },
  {
   "cell_type": "markdown",
   "metadata": {},
   "source": [
    "# Indexing: Split"
   ]
  },
  {
   "cell_type": "code",
   "execution_count": 10,
   "metadata": {},
   "outputs": [
    {
     "data": {
      "text/plain": [
       "13"
      ]
     },
     "execution_count": 10,
     "metadata": {},
     "output_type": "execute_result"
    }
   ],
   "source": [
    "from langchain_text_splitters import RecursiveCharacterTextSplitter\n",
    "\n",
    "text_splitter = RecursiveCharacterTextSplitter(\n",
    "    chunk_size=1000, chunk_overlap=200, add_start_index=True\n",
    ")\n",
    "\n",
    "all_splits = text_splitter.split_documents(docs)\n",
    "\n",
    "len(all_splits)"
   ]
  },
  {
   "cell_type": "code",
   "execution_count": 11,
   "metadata": {},
   "outputs": [
    {
     "data": {
      "text/plain": [
       "991"
      ]
     },
     "execution_count": 11,
     "metadata": {},
     "output_type": "execute_result"
    }
   ],
   "source": [
    "len(all_splits[0].page_content)"
   ]
  },
  {
   "cell_type": "code",
   "execution_count": 12,
   "metadata": {},
   "outputs": [
    {
     "data": {
      "text/plain": [
       "{'source': '../data/对话马斯克.pdf', 'page': 5, 'start_index': 787}"
      ]
     },
     "execution_count": 12,
     "metadata": {},
     "output_type": "execute_result"
    }
   ],
   "source": [
    "all_splits[10].metadata"
   ]
  },
  {
   "cell_type": "markdown",
   "metadata": {},
   "source": [
    "# Indexing: Store"
   ]
  },
  {
   "cell_type": "code",
   "execution_count": 13,
   "metadata": {},
   "outputs": [],
   "source": [
    "from langchain_qdrant import QdrantVectorStore\n",
    "from qdrant_client import QdrantClient\n",
    "from qdrant_client.http.models import Distance, VectorParams\n",
    "\n",
    "\n",
    "# Vector Store\n",
    "client = QdrantClient(host=\"localhost\", port=6333)\n",
    "\n",
    "if not client.collection_exists(\"demo_collection\"):\n",
    "    client.create_collection(\n",
    "        collection_name=\"demo_collection\",\n",
    "        vectors_config=VectorParams(size=1024, distance=Distance.COSINE),\n",
    "    )\n",
    "\n",
    "vector_store = QdrantVectorStore(\n",
    "    client=client,\n",
    "    collection_name=\"demo_collection\",\n",
    "    embedding=embedding_model,\n",
    ")"
   ]
  },
  {
   "cell_type": "code",
   "execution_count": 14,
   "metadata": {},
   "outputs": [
    {
     "data": {
      "text/plain": [
       "['3b05743e-66e6-4c60-a6e5-1a535dc6e741',\n",
       " '5bce9d80-e593-49d6-bb4d-4b95d4145d1c',\n",
       " '5caf2120-7086-49a0-a752-5d6512a697a2',\n",
       " 'd9354cf1-e910-4486-acb6-b7d3a6f26ab1',\n",
       " '4a22a9b4-7ef3-4812-918c-f33528ba96d1',\n",
       " '7febc09c-9c3a-4c06-b815-af6b5d40bc77',\n",
       " '5135bbfd-4ec1-4eca-b69b-37700dc391a4',\n",
       " '671cebec-edb5-4561-94cc-8930226ca80d',\n",
       " 'a14b061e-379a-4f0e-82b2-4a306c7bc584',\n",
       " '5afac4f2-4da5-41a7-9841-4faf4d55f0bd',\n",
       " '33c5ff02-0cb4-489b-b3a1-7e808c286db1',\n",
       " 'd8a7b8bc-696b-450c-95f2-98a0272c6237',\n",
       " '9ef0e233-9352-44b8-a3a2-65eb7ba374a4']"
      ]
     },
     "execution_count": 14,
     "metadata": {},
     "output_type": "execute_result"
    }
   ],
   "source": [
    "from uuid import uuid4\n",
    "\n",
    "ids = [str(uuid4()) for _ in range(len(all_splits))]\n",
    "vector_store.add_documents(documents=all_splits, ids=ids)"
   ]
  },
  {
   "cell_type": "markdown",
   "metadata": {},
   "source": [
    "# Retrieval and Generation: Retrieve"
   ]
  },
  {
   "cell_type": "code",
   "execution_count": 15,
   "metadata": {},
   "outputs": [
    {
     "data": {
      "text/plain": [
       "3"
      ]
     },
     "execution_count": 15,
     "metadata": {},
     "output_type": "execute_result"
    }
   ],
   "source": [
    "retriever = vector_store.as_retriever(search_type=\"similarity\", search_kwargs={\"k\": 3})\n",
    "\n",
    "retrieved_docs = retriever.invoke(\"物理学对马斯克有什么影响？\")\n",
    "\n",
    "len(retrieved_docs)"
   ]
  },
  {
   "cell_type": "markdown",
   "metadata": {},
   "source": [
    "# Retrieval and Generation: Generate"
   ]
  },
  {
   "cell_type": "code",
   "execution_count": 25,
   "metadata": {},
   "outputs": [],
   "source": [
    "from langchain_core.prompts import ChatPromptTemplate\n",
    "\n",
    "\n",
    "system_prompt = (\n",
    "    \"你是负责问答任务的助手。\"\n",
    "    \"使用下面检索到的上下文来回答问题。\"\n",
    "    \"如果你不知道答案，就说你不知道。\"\n",
    "    \"最多使用三句话并保持答案简洁。\"\n",
    "    \"上下文：\\n\\n{context}\"\n",
    ")\n",
    "\n",
    "prompt = ChatPromptTemplate.from_messages(\n",
    "    [\n",
    "        (\"system\", system_prompt),\n",
    "        (\"human\", \"{input}\"),\n",
    "    ]\n",
    ")"
   ]
  },
  {
   "cell_type": "code",
   "execution_count": 38,
   "metadata": {},
   "outputs": [],
   "source": [
    "from langchain.chains import create_retrieval_chain\n",
    "from langchain.chains.combine_documents import create_stuff_documents_chain\n",
    "\n",
    "\n",
    "question_answer_chain = create_stuff_documents_chain(llm=model, prompt=prompt)\n",
    "rag_chain = create_retrieval_chain(retriever, question_answer_chain)\n",
    "response = rag_chain.invoke({\"input\": \"物理学对马斯克有什么影响？\"})"
   ]
  },
  {
   "cell_type": "code",
   "execution_count": 39,
   "metadata": {},
   "outputs": [
    {
     "name": "stdout",
     "output_type": "stream",
     "text": [
      "物理学为马斯克提供了一个研究框架，尤其是通过第一性原理来理解\n",
      "复杂和反直觉的事物。他认为这是了解新事物、探索未知领域的唯一\n",
      "有效方法。此外，这种思维方式帮助他在创新时能够追溯到问题的本\n",
      "源，而不是仅仅依赖类推。\n"
     ]
    }
   ],
   "source": [
    "import textwrap\n",
    "\n",
    "print(textwrap.fill(response[\"answer\"], 30))"
   ]
  },
  {
   "cell_type": "code",
   "execution_count": 41,
   "metadata": {},
   "outputs": [
    {
     "name": "stdout",
     "output_type": "stream",
     "text": [
      "他们说还可以回去再读，不收学 费了。 钱颖一  你先学了商科，然后学 了物理。相比经济学和商科，你 认为物理学更有趣还是更难？ 马斯克\n",
      "我之所以对物理和其他 科学感兴趣，是因为我想弄明白 现实世界的本质。生命的意义是什么？宇宙的本质是什么？这是 我读物理的主要动机。其实我学\n",
      "商科的原因是我担心毕业后遇到 一个有商科学位的老板，如果老 板懂的我不懂，那我就没有优势 了。当然，其实也没什么。 钱颖一\n",
      "你学商科是为了跟你未 来的老板有共同语言，这是当时 的动机吗？ 马斯克  是的，我最怕遇上一个 我不喜欢的老板。 钱颖一\n",
      "然后你就决定自己当老 板，避免这个问题？ 马斯克  没错。 用物理学第一性原理思考 问题 钱颖一  你在很多场合都提到了 物理学\n",
      "。你喜欢物理学 。你说 过物理学的第一性原理 （ F i r s t   Principles）能帮助你思考复杂\n",
      "的事情。能否告诉我们，或举一 些例子，为什么物理学第一性原 理对你来说这么重要？对你的生 活和思维方式到底有什么影响？ 马斯克\n",
      "要知道，想理解那些反 直觉的新事物，我觉得物理学提 供了一个最理想的研究框架。比 如说， 量子力学就是违背直觉的，\n",
      "现实世界似乎并不是那样运转， 而事实就是，并可以通过实验高 度精确地验证。物理学之所以能\n",
      "\n",
      "书？你最喜欢读什么方面的书？ 科幻类、哲学类、宗教、历史、 生物？和我们分享一下。 马斯克  我觉得历史方面的书很\n",
      "有意思。可以从历史、人物传记 中学到很多经验教训。比如说， 他们面临的困难，他们如何克服 困难。我喜欢莎士比亚，我的最 爱之一。\n",
      "我还喜欢本·富兰克林。 钱颖一  富兰克林是一个伟大的 发明家。 马斯克  除此之外，他还在正确 的时间做了正确的事情。 钱颖一\n",
      "你认为自己也是在正确 2015 年 10 月 22 日，钱颖一与特斯拉首席执行官埃隆·马斯克（Elon Musk）（右） 在 2015\n",
      "清华管理全球论坛上对话。\n",
      "\n",
      "492022 年第1期 够在这些反直觉领域取得进展， 就是因为它将事物拆分到最基本 的实质，再往上推。我觉得这是\n",
      "很重要的方法，事实上也是了解 新事物、探索未知领域的唯一有 效方法。 在日常生活中，我们非常善 用类推（analogy）方法，在别人\n",
      "正在做的事情上做些微小调整。类 推提供了捷径，不需要大量思考， 这在日常生活中没什么问题。我 们不可能万事都用物理学第一性\n",
      "原理，那需要太多计算。但第一 性原理对于了解新事物极其重要。 钱颖一  你的观点是，如果一个 人想真正有创意，就要从第一性\n",
      "原理来思考问题。事情要追回到 它的本源，这样才能变得有独创 性，否则还是在类推的基础上做 些改变？ 马斯克  如果用类推，你无法知\n",
      "道什么是真正正确的，什么是真 正可能的。类推看上去很有说服 力，但用于创造，只是传说。 钱颖一  你的观点非常发人深省， 我们喜欢类推，\n",
      "因为类推是捷径。 马斯克  人在大多数时候都需要 这样，不然没法生活。 钱颖一  平时生活中使用类推。 但是想要有独创性，就必须回到\n",
      "第一性原理。这是关键？马斯克  对的。 钱颖一  今天我们现场有一位清 华大学物理系的教授，朱邦芬院 士。 朱邦芬  你对中国计划减少高中\n",
      "物理课程有什么看法？ 马斯克  我是支持多开物理课的。 不过我觉得最大的问题在于，现 在物理课的教学方式不对。我们\n",
      "通常让学生背各种枯燥的公式， 却没有传递公式的基本含义。这 些公式在现实中代表什么呢？一 个公式所能描绘的美妙现实世界\n",
      "是令人难以置信的。物理的美妙 和神奇没有通过课堂来传递。另外，我们的教学应该以问 题为重点， 而不是以工具为重点。\n",
      "比方说，我们想了解内燃机的工 作原理，那最好的方法就是把它 拆开， 把每个零部件都研究一下， 然后再组装起来。在这个过程中\n",
      "我们需要什么工具呢？我们需要 螺丝刀、扳手，以及其他各类工 具。当你把内燃机拆开再组装起 来的时候，你就知道这些工具的\n",
      "作用了。但如果反过来，让你先 去上一堂关于螺丝刀和扳手的课， 那效果就很差了，你很难记住。 我们大脑的进化方式是记住跟我\n",
      "们相关的事物，所以一定要建立 中国国家航天局在 5 月 19 日发布的“祝融号”火星车在火星上拍摄到的照片。\n",
      "\n"
     ]
    }
   ],
   "source": [
    "for document in response[\"context\"]:\n",
    "    print(textwrap.fill(document.page_content, 70))\n",
    "    print()"
   ]
  },
  {
   "cell_type": "code",
   "execution_count": null,
   "metadata": {},
   "outputs": [],
   "source": []
  }
 ],
 "metadata": {
  "kernelspec": {
   "display_name": "Python 3",
   "language": "python",
   "name": "python3"
  },
  "language_info": {
   "codemirror_mode": {
    "name": "ipython",
    "version": 3
   },
   "file_extension": ".py",
   "mimetype": "text/x-python",
   "name": "python",
   "nbconvert_exporter": "python",
   "pygments_lexer": "ipython3",
   "version": "3.12.7"
  }
 },
 "nbformat": 4,
 "nbformat_minor": 2
}
